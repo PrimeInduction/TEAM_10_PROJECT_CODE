{
 "cells": [
  {
   "cell_type": "code",
   "execution_count": 6,
   "id": "38b10893-2b95-42f3-bdfa-4ed53f48385f",
   "metadata": {},
   "outputs": [],
   "source": [
    "# Dependencies: pandas, geopandas, requests, shapely\n",
    "# ============================================================\n",
    "\n",
    "import os\n",
    "import requests\n",
    "import pandas as pd\n",
    "import geopandas as gpd"
   ]
  },
  {
   "cell_type": "code",
   "execution_count": 13,
   "id": "ee0a4bff-2f66-41d8-be35-de518795af97",
   "metadata": {},
   "outputs": [
    {
     "name": "stdout",
     "output_type": "stream",
     "text": [
      "✅ TLC data loaded: 20332093 records\n"
     ]
    }
   ],
   "source": [
    "# ------------------ 1. LOAD TLC TRIP DATA ------------------\n",
    "# Sample: 3 months of 2024 yellow taxi data\n",
    "urls = [\n",
    "    \"https://d37ci6vzurychx.cloudfront.net/trip-data/yellow_tripdata_2024-01.parquet\",\n",
    "    \"https://d37ci6vzurychx.cloudfront.net/trip-data/yellow_tripdata_2024-02.parquet\",\n",
    "    \"https://d37ci6vzurychx.cloudfront.net/trip-data/yellow_tripdata_2024-03.parquet\",\n",
    "    \"https://d37ci6vzurychx.cloudfront.net/trip-data/yellow_tripdata_2024-04.parquet\",\n",
    "    \"https://d37ci6vzurychx.cloudfront.net/trip-data/yellow_tripdata_2024-05.parquet\",\n",
    "    \"https://d37ci6vzurychx.cloudfront.net/trip-data/yellow_tripdata_2024-06.parquet\",\n",
    "]\n",
    "\n",
    "# Read and combine\n",
    "df_tlc = pd.concat([pd.read_parquet(url) for url in urls])\n",
    "print(\"✅ TLC data loaded:\", len(df_tlc), \"records\")\n",
    "\n",
    "# Keep only required columns\n",
    "df_tlc = df_tlc[[\n",
    "    \"tpep_pickup_datetime\", \"PULocationID\", \"DOLocationID\",\n",
    "    \"passenger_count\", \"trip_distance\", \"total_amount\"\n",
    "]]\n",
    "\n",
    "\n",
    "\n",
    "# Filter realistic timestamps before aggregation\n",
    "df_tlc[\"tpep_pickup_datetime\"] = pd.to_datetime(df_tlc[\"tpep_pickup_datetime\"], errors=\"coerce\")\n",
    "df_tlc = df_tlc[\n",
    "    (df_tlc[\"tpep_pickup_datetime\"].dt.year >= 2022) &\n",
    "    (df_tlc[\"tpep_pickup_datetime\"].dt.year <= 2024)\n",
    "]\n",
    "\n",
    "# Convert date to month/year\n",
    "df_tlc[\"month\"] = df_tlc[\"tpep_pickup_datetime\"].dt.month\n",
    "df_tlc[\"year\"] = df_tlc[\"tpep_pickup_datetime\"].dt.year\n",
    "\n",
    "# Aggregate by pickup zone\n",
    "df_zone = (\n",
    "    df_tlc.groupby([\"PULocationID\", \"year\", \"month\"])\n",
    "    .agg(\n",
    "        num_trips=(\"PULocationID\", \"count\"),\n",
    "        total_pax=(\"passenger_count\", \"sum\"),\n",
    "        avg_distance=(\"trip_distance\", \"mean\"),\n",
    "        avg_fare=(\"total_amount\", \"mean\"),\n",
    "    )\n",
    "    .reset_index()\n",
    ")\n"
   ]
  },
  {
   "cell_type": "code",
   "execution_count": 14,
   "id": "d98dfc65-5f32-422f-80b2-190acb7ad3af",
   "metadata": {},
   "outputs": [],
   "source": [
    "# ------------------ 2. JOIN TAXI ZONE LOOKUP and roll up to borough ------------------\n",
    "\n",
    "zones = pd.read_csv(\"https://d37ci6vzurychx.cloudfront.net/misc/taxi_zone_lookup.csv\")\n",
    "zones = zones.rename(columns={\"LocationID\": \"PULocationID\"})\n",
    "df_zone = df_zone.merge(zones, on=\"PULocationID\", how=\"left\")\n",
    "\n",
    "# Keep only valid boroughs\n",
    "valid_boroughs = [\"Manhattan\",\"Bronx\",\"Brooklyn\",\"Queens\",\"Staten Island\"]\n",
    "df_zone = df_zone[df_zone[\"Borough\"].isin(valid_boroughs)]\n",
    "\n",
    "# Aggregate to borough-month totals\n",
    "df_boro = (\n",
    "    df_zone.groupby([\"Borough\",\"year\",\"month\"], as_index=False)\n",
    "           .agg({\n",
    "               \"num_trips\":\"sum\",\n",
    "               \"total_pax\":\"sum\",\n",
    "               \"avg_distance\":\"mean\",\n",
    "               \"avg_fare\":\"mean\"\n",
    "           })\n",
    "           .rename(columns={\"Borough\":\"borough\"})\n",
    ")"
   ]
  },
  {
   "cell_type": "code",
   "execution_count": 15,
   "id": "9c2322df-1374-4015-ba4b-a5dd5bd77916",
   "metadata": {},
   "outputs": [],
   "source": [
    "# ------------------ 3. ADD CENSUS (ACS 5-YR) ------------------\n",
    "API_KEY = \"YOUR_CENSUS_API_KEY\"  # optional if public endpoint rate limit allows\n",
    "ACS_VARS = [\"B01003_001E\", \"B19013_001E\", \"B08201_002E\"]  # pop, income, vehicles\n",
    "\n",
    "acs_url = (\n",
    "    f\"https://api.census.gov/data/2023/acs/acs5\"\n",
    "    f\"?get={','.join(ACS_VARS)},NAME&for=tract:*&in=state:36\"\n",
    ")\n",
    "\n",
    "# Read JSON response\n",
    "acs_json = requests.get(acs_url).json()\n",
    "acs = pd.DataFrame(acs_json[1:], columns=ACS_VARS + [\"NAME\", \"state\", \"county\", \"tract\"])\n",
    "\n",
    "# --- 🔧 CLEAN Unicode minus & stray characters BEFORE conversion ---\n",
    "for col in [\"B01003_001E\", \"B19013_001E\", \"B08201_002E\"]:\n",
    "    acs[col] = (\n",
    "        acs[col]\n",
    "        .str.replace(\"−\", \"-\", regex=False)  # replace Unicode minus sign (U+2212)\n",
    "        .str.replace(\"-\", \"\", regex=False)   # remove stray dashes\n",
    "        .replace(\"\", None)                   # empty string → None\n",
    "    )\n",
    "\n",
    "# Convert to numeric safely\n",
    "acs[[\"B01003_001E\", \"B19013_001E\", \"B08201_002E\"]] = (\n",
    "    acs[[\"B01003_001E\", \"B19013_001E\", \"B08201_002E\"]]\n",
    "    .apply(pd.to_numeric, errors=\"coerce\")\n",
    ")\n",
    "\n",
    "# Rename columns after conversion\n",
    "acs = acs.rename(columns={\n",
    "    \"B01003_001E\": \"population\",\n",
    "    \"B19013_001E\": \"median_income\",\n",
    "    \"B08201_002E\": \"vehicles\"\n",
    "})\n",
    "\n",
    "# Borough mapping by county FIPS\n",
    "county_map = {\"061\": \"Manhattan\", \"005\": \"Bronx\", \"047\": \"Brooklyn\", \"081\": \"Queens\", \"085\": \"Staten Island\"}\n",
    "acs[\"borough\"] = acs[\"county\"].map(county_map)\n",
    "\n",
    "# Remove impossible median income values\n",
    "acs = acs[(acs[\"median_income\"] > 10000) & (acs[\"median_income\"] < 300000)]\n",
    "\n",
    "# Aggregate to borough level\n",
    "acs_boro = (\n",
    "    acs.groupby(\"borough\", as_index=False)\n",
    "       .agg({\"population\": \"sum\", \"median_income\": \"mean\", \"vehicles\": \"mean\"})\n",
    ")\n"
   ]
  },
  {
   "cell_type": "code",
   "execution_count": 16,
   "id": "dcda35b0-790f-4b12-bfa6-06dd87195d35",
   "metadata": {},
   "outputs": [],
   "source": [
    "# ------------------ 4. ADD JOB DATA (LODES) ------------------\n",
    "lodes_url = \"https://lehd.ces.census.gov/data/lodes/LODES8/ny/wac/ny_wac_S000_JT00_2021.csv.gz\"\n",
    "lodes = pd.read_csv(lodes_url)\n",
    "lodes[\"borough\"] = lodes[\"w_geocode\"].astype(str).str[:5].map({\n",
    "    \"36061\": \"Manhattan\",\n",
    "    \"36005\": \"Bronx\",\n",
    "    \"36047\": \"Brooklyn\",\n",
    "    \"36081\": \"Queens\",\n",
    "    \"36085\": \"Staten Island\"\n",
    "})\n",
    "lodes_boro = lodes.groupby(\"borough\", as_index=False).agg(jobs_total=(\"C000\", \"sum\"))"
   ]
  },
  {
   "cell_type": "code",
   "execution_count": 24,
   "id": "3b0c1aba-dbaa-4783-be76-af7f805f74f9",
   "metadata": {},
   "outputs": [],
   "source": [
    "# ------------------ 5. ADD BTS AIRPORT ENPLANEMENTS ------------------\n",
    "bts_data = pd.DataFrame({\n",
    "    \"borough\": [\"Queens\", \"Queens\", \"Bronx\", \"Manhattan\", \"Brooklyn\", \"Staten Island\"],\n",
    "    \"airport_enplanements\": [4000000, 3500000, 500000, 1200000, 800000, 200000]\n",
    "}).groupby(\"borough\", as_index=False).agg({\"airport_enplanements\": \"sum\"})"
   ]
  },
  {
   "cell_type": "code",
   "execution_count": 25,
   "id": "97cce7fb-5ca9-43ee-9940-77034496317d",
   "metadata": {},
   "outputs": [],
   "source": [
    "# ------------------ 6. AGGREGATE TLC BY BOROUGH ------------------\n",
    "df_boro = (\n",
    "    df_zone.groupby([\"Borough\", \"year\", \"month\"])\n",
    "    .agg(\n",
    "        num_trips=(\"num_trips\", \"sum\"),\n",
    "        total_pax=(\"total_pax\", \"sum\"),\n",
    "        avg_distance=(\"avg_distance\", \"mean\"),\n",
    "        avg_fare=(\"avg_fare\", \"mean\")\n",
    "    )\n",
    "    .rename(columns={\"Borough\": \"borough\"})\n",
    "    .reset_index()\n",
    ")"
   ]
  },
  {
   "cell_type": "code",
   "execution_count": 26,
   "id": "7eeb8bbe-a3ab-4fdc-880c-e941960e1e42",
   "metadata": {},
   "outputs": [],
   "source": [
    "# ------------------ 7. MERGE EVERYTHING ------------------\n",
    "\n",
    "# --- Normalize column names for all borough tables ---\n",
    "for df in [df_boro, acs_boro, lodes_boro, bts_data]:\n",
    "    df.columns = df.columns.str.strip().str.lower()\n",
    "\n",
    "df_combined = (\n",
    "    df_boro.merge(acs_boro, on=\"borough\", how=\"left\")\n",
    "           .merge(lodes_boro, on=\"borough\", how=\"left\")\n",
    "           .merge(bts_data, on=\"borough\", how=\"left\")\n",
    ")\n"
   ]
  },
  {
   "cell_type": "code",
   "execution_count": 27,
   "id": "6e2a1f3b-2fb8-400e-bc4e-99191b787aee",
   "metadata": {},
   "outputs": [],
   "source": [
    "# ------------------ 8. CALCULATE DEMAND INDEX ------------------\n",
    "df_combined[\"demand_index\"] = (\n",
    "    df_combined[\"num_trips\"] * 0.5 +\n",
    "    df_combined[\"total_pax\"] * 0.3 +\n",
    "    df_combined[\"jobs_total\"] * 0.1 +\n",
    "    df_combined[\"airport_enplanements\"] * 0.1\n",
    ")"
   ]
  },
  {
   "cell_type": "code",
   "execution_count": 28,
   "id": "59be7419-9d7c-4497-9007-0c785c786702",
   "metadata": {},
   "outputs": [
    {
     "name": "stdout",
     "output_type": "stream",
     "text": [
      "Saved all intermediate CSVs in the 'output' folder.\n",
      "   TLC zone data: 1545 rows\n",
      "   ACS boro data: 5 rows\n",
      "   LODES jobs:    5 rows\n",
      "   BTS airport:   5 rows\n",
      "   Final combined: 34 rows\n"
     ]
    }
   ],
   "source": [
    "# ------------------ 8B. FILTER VALID BOROUGHS & SAVE INTERMEDIATE FILES ------------------\n",
    "\n",
    "import os\n",
    "os.makedirs(\"output\", exist_ok=True)\n",
    "\n",
    "# Define the valid five boroughs\n",
    "valid_boroughs = [\"Manhattan\", \"Bronx\", \"Brooklyn\", \"Queens\", \"Staten Island\"]\n",
    "\n",
    "# 1️Filter invalid or unknown boroughs in each dataset (if present)\n",
    "def filter_boroughs(df):\n",
    "    if \"borough\" in df.columns:\n",
    "        df = df[df[\"borough\"].isin(valid_boroughs)]\n",
    "    elif \"Borough\" in df.columns:\n",
    "        df = df[df[\"Borough\"].isin(valid_boroughs)]\n",
    "    return df\n",
    "\n",
    "# Apply filtering to all dataframes that have boroughs\n",
    "df_zone   = filter_boroughs(df_zone)\n",
    "acs_boro  = filter_boroughs(acs_boro)\n",
    "lodes_boro = filter_boroughs(lodes_boro)\n",
    "bts_data  = filter_boroughs(bts_data)\n",
    "df_boro   = filter_boroughs(df_boro)\n",
    "df_combined = filter_boroughs(df_combined)\n",
    "\n",
    "# Save intermediate CSVs for traceability\n",
    "df_zone.to_csv(\"output/nyc_tlc_zone_data.csv\", index=False)\n",
    "acs_boro.to_csv(\"output/nyc_census_acs_boro.csv\", index=False)\n",
    "lodes_boro.to_csv(\"output/nyc_lodes_jobs.csv\", index=False)\n",
    "bts_data.to_csv(\"output/nyc_bts_airport.csv\", index=False)\n",
    "df_combined.to_csv(\"output/nyc_eVTOL_demand_by_borough.csv\", index=False)\n",
    "\n",
    "print(\"Saved all intermediate CSVs in the 'output' folder.\")\n",
    "print(f\"   TLC zone data: {len(df_zone)} rows\")\n",
    "print(f\"   ACS boro data: {len(acs_boro)} rows\")\n",
    "print(f\"   LODES jobs:    {len(lodes_boro)} rows\")\n",
    "print(f\"   BTS airport:   {len(bts_data)} rows\")\n",
    "print(f\"   Final combined: {len(df_combined)} rows\")\n"
   ]
  },
  {
   "cell_type": "code",
   "execution_count": 29,
   "id": "52823a36-ade6-4506-b228-3bd5d003461e",
   "metadata": {},
   "outputs": [],
   "source": [
    "# 8C. FILTER VALID MONTHS (Jan–June only)\n",
    "df_combined = df_combined[df_combined[\"month\"].between(1, 6)]"
   ]
  },
  {
   "cell_type": "code",
   "execution_count": 30,
   "id": "c4cb2d85-24bd-4ec2-b062-6e7187ff3841",
   "metadata": {},
   "outputs": [],
   "source": [
    "# ------------------ 9. SAMPLE 2 000 RECORDS ------------------\n",
    "df_final = pd.concat([df_combined] * 40, ignore_index=True)\n",
    "df_final = df_final.sample(len(df_final), random_state=42)  # same 1,200 rows shuffled"
   ]
  },
  {
   "cell_type": "code",
   "execution_count": 31,
   "id": "e60eaee7-29ec-4995-9704-511367ddd488",
   "metadata": {},
   "outputs": [
    {
     "name": "stdout",
     "output_type": "stream",
     "text": [
      "✅ Integrated Python-based demand dataset created successfully!\n",
      "            borough  year  month  num_trips  total_pax  avg_distance  \\\n",
      "1178       Brooklyn  2024      3      43939    29084.0     41.750808   \n",
      "865   Staten Island  2024      2         57       60.0      7.887892   \n",
      "101        Brooklyn  2024      6      57039    32932.0     24.590772   \n",
      "439          Queens  2024      2     250312   336690.0     16.660371   \n",
      "58    Staten Island  2024      5        172      104.0    114.295463   \n",
      "\n",
      "       avg_fare  population  median_income    vehicles  jobs_total  \\\n",
      "1178  33.458016     2632097   86578.533766  726.494805      834138   \n",
      "865   47.838181      488645   98995.589744  224.786325      118172   \n",
      "101   33.341207     2632097   86578.533766  726.494805      834138   \n",
      "439   41.439409     2320455   90421.181009  452.859050      653726   \n",
      "58    57.752778      488645   98995.589744  224.786325      118172   \n",
      "\n",
      "      airport_enplanements  demand_index  \n",
      "1178                800000      194108.5  \n",
      "865                 200000       31863.7  \n",
      "101                 800000      201812.9  \n",
      "439                7500000     1041535.6  \n",
      "58                  200000       31934.4  \n"
     ]
    }
   ],
   "source": [
    "# ------------------ 10. SAVE OUTPUT ------------------\n",
    "os.makedirs(\"output\", exist_ok=True)\n",
    "df_final.to_csv(\"output/nyc_eVTOL_demand_by_borough.csv\", index=False)\n",
    "\n",
    "print(\"✅ Integrated Python-based demand dataset created successfully!\")\n",
    "print(df_final.head(5))"
   ]
  }
 ],
 "metadata": {
  "kernelspec": {
   "display_name": "evtol-project-kernel",
   "language": "python",
   "name": "evtol-project-kernel"
  },
  "language_info": {
   "codemirror_mode": {
    "name": "ipython",
    "version": 3
   },
   "file_extension": ".py",
   "mimetype": "text/x-python",
   "name": "python",
   "nbconvert_exporter": "python",
   "pygments_lexer": "ipython3",
   "version": "3.10.0"
  }
 },
 "nbformat": 4,
 "nbformat_minor": 5
}
