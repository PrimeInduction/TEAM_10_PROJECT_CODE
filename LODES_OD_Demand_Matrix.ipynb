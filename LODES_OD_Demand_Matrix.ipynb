{
 "cells": [
  {
   "cell_type": "code",
   "execution_count": 26,
   "id": "35a25f26",
   "metadata": {},
   "outputs": [],
   "source": [
    "import pandas as pd\n",
    "import os\n",
    "import matplotlib.pyplot as plt"
   ]
  },
  {
   "cell_type": "code",
   "execution_count": 27,
   "id": "d5f29337",
   "metadata": {},
   "outputs": [],
   "source": [
    "# --- 1. CONFIGURATION ---\n",
    "LODES_URL = \"https://lehd.ces.census.gov/data/lodes/LODES8/ny/od/ny_od_main_JT00_2021.csv.gz\"\n",
    "OUTPUT_DIR = \"output\"\n",
    "OD_MATRIX_FILE = \"OD_Matrix_LODES_by_Tract.csv\"\n",
    "TOP_N = 15 # Number of top items to plot"
   ]
  },
  {
   "cell_type": "code",
   "execution_count": 28,
   "id": "3eee8ef3",
   "metadata": {},
   "outputs": [
    {
     "name": "stdout",
     "output_type": "stream",
     "text": [
      "➡️ Step 1: Loading LODES commuter data...\n",
      "✅ LODES data loaded: 7144618 total routes in NY State.\n"
     ]
    }
   ],
   "source": [
    "# --- 2. LOAD LODES COMMUTER DATA ---\n",
    "print(\"➡️ Step 1: Loading LODES commuter data...\")\n",
    "df_lodes = pd.read_csv(LODES_URL)\n",
    "print(f\"✅ LODES data loaded: {len(df_lodes)} total routes in NY State.\")"
   ]
  },
  {
   "cell_type": "code",
   "execution_count": 29,
   "id": "63ba0057",
   "metadata": {},
   "outputs": [
    {
     "name": "stdout",
     "output_type": "stream",
     "text": [
      "\n",
      "➡️ Step 2: Filtering data to the five NYC boroughs...\n",
      "✅ Data filtered to NYC-only routes: 2466029 remaining.\n"
     ]
    }
   ],
   "source": [
    "# --- 3. FILTER TO NYC BOROUGHS ---\n",
    "print(\"\\n➡️ Step 2: Filtering data to the five NYC boroughs...\")\n",
    "nyc_county_fips = ['36005', '36047', '36061', '36081', '36085']\n",
    "df_lodes = df_lodes[\n",
    "    df_lodes['h_geocode'].astype(str).str[:5].isin(nyc_county_fips) &\n",
    "    df_lodes['w_geocode'].astype(str).str[:5].isin(nyc_county_fips)\n",
    "]\n",
    "print(f\"✅ Data filtered to NYC-only routes: {len(df_lodes)} remaining.\")"
   ]
  },
  {
   "cell_type": "code",
   "execution_count": 30,
   "id": "45dff3b1",
   "metadata": {},
   "outputs": [
    {
     "name": "stdout",
     "output_type": "stream",
     "text": [
      "\n",
      "➡️ Step 3: Creating custom tract IDs to match taxi data format...\n",
      "✅ Custom tract IDs created successfully.\n"
     ]
    }
   ],
   "source": [
    "# --- 4. CREATE CUSTOM TRACT IDS TO MATCH TAXI DATA (FIXED) ---\n",
    "print(\"\\n➡️ Step 3: Creating custom tract IDs to match taxi data format...\")\n",
    "\n",
    "# Define the mapping from the county FIPS code to a single borough digit\n",
    "# This mapping creates the custom ID format used in your taxi data.\n",
    "county_to_borough_digit = {\n",
    "    '36061': '1',  # Manhattan (New York County)\n",
    "    '36005': '2',  # Bronx\n",
    "    '36047': '3',  # Brooklyn (Kings County)\n",
    "    '36081': '4',  # Queens\n",
    "    '36085': '5'   # Staten Island (Richmond County)\n",
    "}\n",
    "# Extract the county and tract parts from the full geocode\n",
    "df_lodes['origin_county'] = df_lodes['h_geocode'].astype(str).str[:5]\n",
    "df_lodes['origin_tract_part'] = df_lodes['h_geocode'].astype(str).str[5:11]\n",
    "df_lodes['destination_county'] = df_lodes['w_geocode'].astype(str).str[:5]\n",
    "df_lodes['destination_tract_part'] = df_lodes['w_geocode'].astype(str).str[5:11]\n",
    "\n",
    "# Create the new custom tract ID by combining the mapped borough digit and the tract part\n",
    "df_lodes['origin_tract'] = df_lodes['origin_county'].map(county_to_borough_digit) + df_lodes['origin_tract_part']\n",
    "df_lodes['destination_tract'] = df_lodes['destination_county'].map(county_to_borough_digit) + df_lodes['destination_tract_part']\n",
    "print(\"✅ Custom tract IDs created successfully.\")"
   ]
  },
  {
   "cell_type": "code",
   "execution_count": 31,
   "id": "9a6cc300",
   "metadata": {},
   "outputs": [
    {
     "name": "stdout",
     "output_type": "stream",
     "text": [
      "\n",
      "➡️ Step 4: Creating the tract-level O-D matrix...\n",
      "✅ LODES O-D matrix created successfully.\n"
     ]
    }
   ],
   "source": [
    "# --- 5. AGGREGATE TO CREATE THE O-D MATRIX ---\n",
    "print(\"\\n➡️ Step 4: Creating the tract-level O-D matrix...\")\n",
    "od_matrix_lodes = (\n",
    "    df_lodes.groupby(['origin_tract', 'destination_tract'])\n",
    "    ['S000']\n",
    "    .sum()\n",
    "    .reset_index()\n",
    ")\n",
    "od_matrix_lodes.rename(columns={'S000': 'total_commuters'}, inplace=True)\n",
    "print(\"✅ LODES O-D matrix created successfully.\")"
   ]
  },
  {
   "cell_type": "code",
   "execution_count": 32,
   "id": "95143adf",
   "metadata": {},
   "outputs": [
    {
     "name": "stdout",
     "output_type": "stream",
     "text": [
      "\n",
      "➡️ Step 5: Saving the O-D matrix output...\n",
      "✅ Final LODES Commuter O-D matrix saved to: 'output/OD_Matrix_LODES_by_Tract.csv'\n",
      "\n",
      "--- Sample of the Final LODES O-D Matrix ---\n",
      "  origin_tract destination_tract  total_commuters\n",
      "0      1000100           1000900                2\n",
      "1      1000100           1002202                1\n",
      "2      1000100           1002601                1\n",
      "3      1000100           1002901                1\n",
      "4      1000100           1002902                1\n"
     ]
    }
   ],
   "source": [
    "# --- 6. SAVE THE O-D MATRIX & DISPLAY SAMPLE ---\n",
    "print(\"\\n➡️ Step 5: Saving the O-D matrix output...\")\n",
    "os.makedirs(OUTPUT_DIR, exist_ok=True)\n",
    "output_path = os.path.join(OUTPUT_DIR, OD_MATRIX_FILE)\n",
    "od_matrix_lodes.to_csv(output_path, index=False)\n",
    "print(f\"✅ Final LODES Commuter O-D matrix saved to: '{output_path}'\")\n",
    "print(\"\\n--- Sample of the Final LODES O-D Matrix ---\")\n",
    "print(od_matrix_lodes.head())"
   ]
  },
  {
   "cell_type": "code",
   "execution_count": 35,
   "id": "f7357591",
   "metadata": {},
   "outputs": [
    {
     "name": "stdout",
     "output_type": "stream",
     "text": [
      "\n",
      "➡️ Step 6: Generating analysis plots...\n",
      "✅ Saved Top Origins plot to: 'images/lodes_top_origin_tracts.png'\n",
      "✅ Saved Top Destinations plot to: 'images/lodes_top_destination_tracts.png'\n",
      "✅ Saved Top Routes plot to: 'images/lodes_top_routes.png'\n",
      "\n",
      "✅ Analysis and plotting complete.\n"
     ]
    }
   ],
   "source": [
    "# --- 7. ANALYSIS & PLOTTING ---\n",
    "print(\"\\n➡️ Step 6: Generating analysis plots...\")\n",
    "# Using a universally available style to prevent errors\n",
    "plt.style.use('ggplot')\n",
    "\n",
    "# PLOT 1: Top N Busiest Origin Tracts (by Commuters)\n",
    "top_origins = od_matrix_lodes.groupby('origin_tract')['total_commuters'].sum().nlargest(TOP_N).sort_values(ascending=True)\n",
    "plt.figure(figsize=(10, 8))\n",
    "top_origins.plot(kind='barh', color='darkcyan')\n",
    "plt.title(f'Top {TOP_N} Commuter Origin Tracts (LODES)', fontsize=16)\n",
    "plt.xlabel('Total Commuters', fontsize=12)\n",
    "plt.ylabel('Origin Census Tract ID', fontsize=12)\n",
    "plt.tight_layout()\n",
    "origin_plot_path = os.path.join(\"images\", 'lodes_top_origin_tracts.png')\n",
    "plt.savefig(origin_plot_path)\n",
    "print(f\"✅ Saved Top Origins plot to: '{origin_plot_path}'\")\n",
    "plt.close()\n",
    "\n",
    "# PLOT 2: Top N Busiest Destination Tracts (by Commuters)\n",
    "top_destinations = od_matrix_lodes.groupby('destination_tract')['total_commuters'].sum().nlargest(TOP_N).sort_values(ascending=True)\n",
    "plt.figure(figsize=(10, 8))\n",
    "top_destinations.plot(kind='barh', color='orangered')\n",
    "plt.title(f'Top {TOP_N} Commuter Destination Tracts (LODES)', fontsize=16)\n",
    "plt.xlabel('Total Commuters', fontsize=12)\n",
    "plt.ylabel('Destination Census Tract ID', fontsize=12)\n",
    "plt.tight_layout()\n",
    "destination_plot_path = os.path.join(\"images\", 'lodes_top_destination_tracts.png')\n",
    "plt.savefig(destination_plot_path)\n",
    "print(f\"✅ Saved Top Destinations plot to: '{destination_plot_path}'\")\n",
    "plt.close()\n",
    "\n",
    "# PLOT 3: Top N Busiest Commuter Routes\n",
    "top_routes = od_matrix_lodes.sort_values(by='total_commuters', ascending=False).head(TOP_N)\n",
    "top_routes['route'] = top_routes['origin_tract'].astype(str) + ' → ' + top_routes['destination_tract'].astype(str)\n",
    "top_routes.sort_values(by='total_commuters', ascending=True, inplace=True)\n",
    "plt.figure(figsize=(10, 8))\n",
    "plt.barh(top_routes['route'], top_routes['total_commuters'], color='darkviolet')\n",
    "plt.title(f'Top {TOP_N} Busiest Commuter Routes (LODES)', fontsize=16)\n",
    "plt.xlabel('Total Commuters', fontsize=12)\n",
    "plt.ylabel('Origin → Destination Route', fontsize=12)\n",
    "plt.tight_layout()\n",
    "routes_plot_path = os.path.join(\"images\", 'lodes_top_routes.png')\n",
    "plt.savefig(routes_plot_path)\n",
    "print(f\"✅ Saved Top Routes plot to: '{routes_plot_path}'\")\n",
    "plt.close()\n",
    "\n",
    "print(\"\\n✅ Analysis and plotting complete.\")"
   ]
  }
 ],
 "metadata": {
  "kernelspec": {
   "display_name": "Python 3 (ipykernel)",
   "language": "python",
   "name": "python3"
  },
  "language_info": {
   "codemirror_mode": {
    "name": "ipython",
    "version": 3
   },
   "file_extension": ".py",
   "mimetype": "text/x-python",
   "name": "python",
   "nbconvert_exporter": "python",
   "pygments_lexer": "ipython3",
   "version": "3.9.12"
  }
 },
 "nbformat": 4,
 "nbformat_minor": 5
}
