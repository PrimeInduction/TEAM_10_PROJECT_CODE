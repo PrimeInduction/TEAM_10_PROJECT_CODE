{
 "cells": [
  {
   "cell_type": "code",
   "execution_count": 1,
   "id": "7a134463",
   "metadata": {},
   "outputs": [],
   "source": [
    "import pandas as pd\n",
    "import requests\n",
    "import os"
   ]
  },
  {
   "cell_type": "code",
   "execution_count": 2,
   "id": "4263af6b",
   "metadata": {},
   "outputs": [],
   "source": [
    "# --- 1. CONFIGURATION ---\n",
    "OUTPUT_DIR = \"output\"\n",
    "OUTPUT_FILE = \"nyc_census_tract_demographics.csv\"\n",
    "\n",
    "# ACS variable codes for Total Population and Median Household Income\n",
    "ACS_VARS = {\n",
    "    \"B01003_001E\": \"total_population\",\n",
    "    \"B19013_001E\": \"median_income\"\n",
    "}"
   ]
  },
  {
   "cell_type": "code",
   "execution_count": 3,
   "id": "e1e1c825",
   "metadata": {},
   "outputs": [
    {
     "name": "stdout",
     "output_type": "stream",
     "text": [
      "➡️ Step 1: Requesting data from the US Census API...\n",
      "✅ Data for 5411 tracts in NY State loaded successfully.\n"
     ]
    }
   ],
   "source": [
    "# --- 2. CONSTRUCT AND EXECUTE CENSUS API CALL ---\n",
    "print(\"➡️ Step 1: Requesting data from the US Census API...\")\n",
    "\n",
    "# Construct the API URL to get the variables for all tracts in New York State (FIPS code 36)\n",
    "var_string = \",\".join(ACS_VARS.keys())\n",
    "api_url = f\"https://api.census.gov/data/2022/acs/acs5?get={var_string},NAME&for=tract:*&in=state:36\"\n",
    "\n",
    "# Make the request and convert the JSON response to a DataFrame\n",
    "response = requests.get(api_url)\n",
    "data = response.json()\n",
    "df_acs = pd.DataFrame(data[1:], columns=data[0])\n",
    "\n",
    "print(f\"✅ Data for {len(df_acs)} tracts in NY State loaded successfully.\")"
   ]
  },
  {
   "cell_type": "code",
   "execution_count": 4,
   "id": "3ccdfb8a",
   "metadata": {},
   "outputs": [
    {
     "name": "stdout",
     "output_type": "stream",
     "text": [
      "\n",
      "➡️ Step 2: Filtering data to the five NYC boroughs...\n",
      "✅ Data filtered to NYC-only tracts: 2327 remaining.\n"
     ]
    }
   ],
   "source": [
    "# --- 3. FILTER TO NYC BOROUGHS ---\n",
    "print(\"\\n➡️ Step 2: Filtering data to the five NYC boroughs...\")\n",
    "\n",
    "# FIPS codes for the 5 NYC counties\n",
    "nyc_county_fips = ['005', '047', '061', '081', '085'] # Bronx, Kings, New York, Queens, Richmond\n",
    "df_acs_nyc = df_acs[df_acs['county'].isin(nyc_county_fips)].copy()\n",
    "\n",
    "print(f\"✅ Data filtered to NYC-only tracts: {len(df_acs_nyc)} remaining.\")"
   ]
  },
  {
   "cell_type": "code",
   "execution_count": 5,
   "id": "4a22cddc",
   "metadata": {},
   "outputs": [
    {
     "name": "stdout",
     "output_type": "stream",
     "text": [
      "\n",
      "➡️ Step 3: Cleaning data and creating custom tract IDs...\n",
      "✅ Custom tract IDs created.\n",
      "✅ Data cleaned and formatted.\n"
     ]
    }
   ],
   "source": [
    "# --- 4. CLEAN DATA AND FORMAT TRACT IDS ---\n",
    "print(\"\\n➡️ Step 3: Cleaning data and creating custom tract IDs...\")\n",
    "\n",
    "# Rename the columns to be more descriptive\n",
    "df_acs_nyc = df_acs_nyc.rename(columns=ACS_VARS)\n",
    "\n",
    "# Define the mapping from county FIPS to our custom borough digit\n",
    "county_to_borough_digit = {\n",
    "    '061': '1',  # Manhattan (New York County)\n",
    "    '005': '2',  # Bronx\n",
    "    '047': '3',  # Brooklyn (Kings County)\n",
    "    '081': '4',  # Queens\n",
    "    '085': '5'   # Staten Island (Richmond County)\n",
    "}\n",
    "\n",
    "# Create the custom 7-digit tract ID to match your other files\n",
    "df_acs_nyc['tract_id'] = df_acs_nyc['county'].map(county_to_borough_digit) + df_acs_nyc['tract']\n",
    "print(\"✅ Custom tract IDs created.\")\n",
    "\n",
    "# Convert population and income to numeric types.\n",
    "# The API returns negative values for missing/suppressed data, so we'll turn those into NaN (Not a Number).\n",
    "for col in ['total_population', 'median_income']:\n",
    "    df_acs_nyc[col] = pd.to_numeric(df_acs_nyc[col], errors='coerce')\n",
    "    df_acs_nyc.loc[df_acs_nyc[col] < 0, col] = None # Set negative values to NaN\n",
    "\n",
    "# Keep only the essential, final columns\n",
    "df_final = df_acs_nyc[['tract_id', 'total_population', 'median_income']]\n",
    "print(\"✅ Data cleaned and formatted.\")"
   ]
  },
  {
   "cell_type": "code",
   "execution_count": 6,
   "id": "7d469628",
   "metadata": {},
   "outputs": [
    {
     "name": "stdout",
     "output_type": "stream",
     "text": [
      "\n",
      "➡️ Step 4: Saving the final demographic data CSV...\n",
      "✅ Final demographics file saved to: 'output/nyc_census_tract_demographics.csv'\n",
      "\n",
      "--- Sample of the Final Demographics Data ---\n",
      "    tract_id  total_population  median_income\n",
      "101  2000100            4446.0            NaN\n",
      "102  2000200            4870.0       115064.0\n",
      "103  2000400            6257.0       100553.0\n",
      "104  2001600            6177.0        41362.0\n",
      "105  2001901            2181.0        49500.0\n"
     ]
    }
   ],
   "source": [
    "# --- 5. SAVE THE FINAL CSV ---\n",
    "print(\"\\n➡️ Step 4: Saving the final demographic data CSV...\")\n",
    "os.makedirs(OUTPUT_DIR, exist_ok=True)\n",
    "output_path = os.path.join(OUTPUT_DIR, OUTPUT_FILE)\n",
    "df_final.to_csv(output_path, index=False)\n",
    "\n",
    "print(f\"✅ Final demographics file saved to: '{output_path}'\")\n",
    "print(\"\\n--- Sample of the Final Demographics Data ---\")\n",
    "print(df_final.head())"
   ]
  }
 ],
 "metadata": {
  "kernelspec": {
   "display_name": "Python 3 (ipykernel)",
   "language": "python",
   "name": "python3"
  },
  "language_info": {
   "codemirror_mode": {
    "name": "ipython",
    "version": 3
   },
   "file_extension": ".py",
   "mimetype": "text/x-python",
   "name": "python",
   "nbconvert_exporter": "python",
   "pygments_lexer": "ipython3",
   "version": "3.9.12"
  }
 },
 "nbformat": 4,
 "nbformat_minor": 5
}
